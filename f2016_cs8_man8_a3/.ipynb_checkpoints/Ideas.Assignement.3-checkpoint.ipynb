{
 "cells": [
  {
   "cell_type": "code",
   "execution_count": 2,
   "metadata": {
    "collapsed": true
   },
   "outputs": [],
   "source": [
    "iFile = 'f2016_cs8_a3.data.txt'"
   ]
  },
  {
   "cell_type": "code",
   "execution_count": 5,
   "metadata": {
    "collapsed": false
   },
   "outputs": [],
   "source": [
    "files = [file.rstrip('\\n') for file in open(iFile,'r')]"
   ]
  },
  {
   "cell_type": "code",
   "execution_count": 6,
   "metadata": {
    "collapsed": false
   },
   "outputs": [
    {
     "data": {
      "text/plain": [
       "['f2016_cs8_a3.data.1.csv',\n",
       " 'f2016_cs8_a3.data.2.csv',\n",
       " 'f2016_cs8_a3.data.3.csv']"
      ]
     },
     "execution_count": 6,
     "metadata": {},
     "output_type": "execute_result"
    }
   ],
   "source": [
    "files"
   ]
  },
  {
   "cell_type": "code",
   "execution_count": 78,
   "metadata": {
    "collapsed": true
   },
   "outputs": [],
   "source": [
    "def getContent(file):\n",
    "    # output dictionary\n",
    "    output = []\n",
    "    # read file\n",
    "    for line in open(file,'r'):\n",
    "        temp1 = line.rstrip('\\n').split(',')\n",
    "        try:\n",
    "            output.append({'name': temp1[0].strip(' '), 'distance':float(temp1[1])})\n",
    "        except:\n",
    "            print('Invalid row : '+line.rstrip('\\n'))\n",
    "    return output"
   ]
  },
  {
   "cell_type": "code",
   "execution_count": 79,
   "metadata": {
    "collapsed": false,
    "scrolled": true
   },
   "outputs": [
    {
     "name": "stdout",
     "output_type": "stream",
     "text": [
      "Invalid row : name,distance\n",
      "Invalid row : name,distance\n",
      "Invalid row : name,distance\n"
     ]
    }
   ],
   "source": [
    "# read all the files and place the content of each one of them in an element of the list\n",
    "data = [getContent(file) for file in files]"
   ]
  },
  {
   "cell_type": "code",
   "execution_count": 80,
   "metadata": {
    "collapsed": false,
    "scrolled": true
   },
   "outputs": [],
   "source": [
    "# flattens the list => complete list\n",
    "cl = [item2 for item1 in data for item2 in item1]"
   ]
  },
  {
   "cell_type": "code",
   "execution_count": 81,
   "metadata": {
    "collapsed": false,
    "scrolled": true
   },
   "outputs": [],
   "source": [
    "# complete list of names\n",
    "clNames = [item['name'] for item in cl]"
   ]
  },
  {
   "cell_type": "code",
   "execution_count": 25,
   "metadata": {
    "collapsed": false
   },
   "outputs": [],
   "source": [
    "import collections"
   ]
  },
  {
   "cell_type": "code",
   "execution_count": 29,
   "metadata": {
    "collapsed": false
   },
   "outputs": [],
   "source": [
    "t1 = collections.Counter(clNames)"
   ]
  },
  {
   "cell_type": "code",
   "execution_count": 82,
   "metadata": {
    "collapsed": false
   },
   "outputs": [],
   "source": [
    "# initialize\n",
    "totalDistance = 0\n",
    "totalDistancePerPerson = collections.defaultdict(lambda: 0)\n",
    "personAppearances = collections.defaultdict(lambda: 0)\n",
    "appearences = collections.defaultdict(list)\n",
    "\n",
    "for item in cl:\n",
    "    totalDistance += item['distance']\n",
    "    totalDistancePerPerson[item['name']] += item['distance']\n",
    "    personAppearances[item['name']] += 1\n",
    "    \n",
    "for person in personAppearances.keys():\n",
    "    appearences[personAppearances[person]].append(person)\n",
    "    \n"
   ]
  },
  {
   "cell_type": "code",
   "execution_count": 83,
   "metadata": {
    "collapsed": false
   },
   "outputs": [
    {
     "data": {
      "text/plain": [
       "['Ronda', 'Glynis']"
      ]
     },
     "execution_count": 83,
     "metadata": {},
     "output_type": "execute_result"
    }
   ],
   "source": [
    "appearences[3]"
   ]
  },
  {
   "cell_type": "code",
   "execution_count": 84,
   "metadata": {
    "collapsed": false
   },
   "outputs": [],
   "source": [
    "td = list(totalDistancePerPerson.values())\n",
    "tdi = td.index(max(td))"
   ]
  },
  {
   "cell_type": "code",
   "execution_count": 85,
   "metadata": {
    "collapsed": false
   },
   "outputs": [
    {
     "data": {
      "text/plain": [
       "'Glynis'"
      ]
     },
     "execution_count": 85,
     "metadata": {},
     "output_type": "execute_result"
    }
   ],
   "source": [
    "list(totalDistancePerPerson.keys())[tdi]"
   ]
  },
  {
   "cell_type": "code",
   "execution_count": 86,
   "metadata": {
    "collapsed": false
   },
   "outputs": [
    {
     "data": {
      "text/plain": [
       "205.82148177564366"
      ]
     },
     "execution_count": 86,
     "metadata": {},
     "output_type": "execute_result"
    }
   ],
   "source": [
    "totalDistancePerPerson['Glynis']"
   ]
  },
  {
   "cell_type": "code",
   "execution_count": null,
   "metadata": {
    "collapsed": true
   },
   "outputs": [],
   "source": []
  }
 ],
 "metadata": {
  "kernelspec": {
   "display_name": "Python 3",
   "language": "python",
   "name": "python3"
  },
  "language_info": {
   "codemirror_mode": {
    "name": "ipython",
    "version": 3
   },
   "file_extension": ".py",
   "mimetype": "text/x-python",
   "name": "python",
   "nbconvert_exporter": "python",
   "pygments_lexer": "ipython3",
   "version": "3.5.2"
  }
 },
 "nbformat": 4,
 "nbformat_minor": 1
}
